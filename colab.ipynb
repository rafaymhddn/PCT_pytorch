{
 "cells": [
  {
   "cell_type": "markdown",
   "metadata": {},
   "source": [
    "# End-to-End 3D Detection & Segmentation"
   ]
  },
  {
   "cell_type": "code",
   "execution_count": null,
   "metadata": {},
   "outputs": [],
   "source": [
    "!git clone --recursive https://github.com/rafaymhddn/PCT_pytorch.git"
   ]
  },
  {
   "cell_type": "code",
   "execution_count": null,
   "metadata": {},
   "outputs": [],
   "source": [
    "!cd PCT_pytorch && git pull"
   ]
  },
  {
   "cell_type": "markdown",
   "metadata": {},
   "source": [
    "#### Intsall Libs / Dependencies"
   ]
  },
  {
   "cell_type": "code",
   "execution_count": null,
   "metadata": {},
   "outputs": [],
   "source": [
    "!python -c \"import torch; print(torch.__version__)\"\n",
    "!pip install open3d\n",
    "!pip install plotly\n",
    "!pip install ninja\n",
    "!pip install 'git+https://github.com/facebookresearch/pytorch3d.git@stable'\n"
   ]
  },
  {
   "cell_type": "markdown",
   "metadata": {},
   "source": [
    "#### Import Libraries"
   ]
  },
  {
   "cell_type": "code",
   "execution_count": 11,
   "metadata": {},
   "outputs": [],
   "source": [
    "import os\n",
    "import sys\n",
    "import torch\n",
    "import subprocess\n",
    "import glob\n",
    "import random\n",
    "import numpy as np\n",
    "from torch.utils.data import Dataset, DataLoader\n",
    "from sklearn.model_selection import train_test_split\n",
    "from vis import *\n",
    "%matplotlib inline"
   ]
  },
  {
   "cell_type": "markdown",
   "metadata": {},
   "source": [
    "### DataLoader"
   ]
  },
  {
   "cell_type": "code",
   "execution_count": 41,
   "metadata": {},
   "outputs": [],
   "source": [
    "def custom_collate(batch):\n",
    "    return {\n",
    "        'point_cloud': [item['point_cloud'] for item in batch],\n",
    "        'mask': [item['mask'] for item in batch],\n",
    "        'bbox3d': [item['bbox3d'] for item in batch], \n",
    "        'centroid': [item['centroid'] for item in batch]\n",
    "    }\n",
    "\n",
    "class PickPlaceDataset(Dataset):\n",
    "    def __init__(self, root_dir, sample_ids,  augment=False):\n",
    "        self.root_dir = root_dir\n",
    "        self.sample_ids = sample_ids\n",
    "        self.augment = augment\n",
    "\n",
    "    def __len__(self):\n",
    "        return len(self.sample_ids)\n",
    "\n",
    "    def __getitem__(self, idx):\n",
    "        sample_id = self.sample_ids[idx]\n",
    "        sample_path = os.path.join(self.root_dir, sample_id)\n",
    "\n",
    "        pc = np.load(os.path.join(sample_path, 'pc.npy'))        # [3, H, W]\n",
    "        mask = np.load(os.path.join(sample_path, 'mask.npy'))    # [N, H, W]\n",
    "        bbox = np.load(os.path.join(sample_path, 'bbox3d.npy'))  #  [N, 8, 3]\n",
    "        centroids = bbox.mean(axis=1) \n",
    "\n",
    "        H, W = pc.shape[1], pc.shape[2]\n",
    "        pc = pc.reshape(3, -1).transpose(1, 0)  # shape: [Points, 3]\n",
    "\n",
    "        # Reshape mask: [N, H, W] → [N, H*W]\n",
    "        mask = mask.reshape(mask.shape[0], -1)  # shape: [N, Points]\n",
    "\n",
    "        # Flip ?\n",
    "\n",
    "        if self.augment:\n",
    "            pc, bbox = self.apply_augmentations(pc, bbox)\n",
    "\n",
    "        \n",
    "\n",
    "\n",
    "        return {\n",
    "            'point_cloud': pc.astype(np.float32),\n",
    "            'mask': mask.astype(np.int64),\n",
    "            'bbox3d': bbox.astype(np.float32),\n",
    "            'centroid': bbox.mean(axis=1).astype(np.float32)\n",
    "\n",
    "        }\n",
    "    \n",
    "    def apply_augmentations(self, pc, bbox):\n",
    "        \"\"\"\n",
    "        Applies a series of random augmentations to the point cloud and bounding box.\n",
    "        Assumes pc is [N, 3] and bbox is [N, 8, 3].\n",
    "        \"\"\"\n",
    "        # 1. Random Rotation around the Z-axis\n",
    "        angle = random.uniform(0, 2 * np.pi)\n",
    "        rotation_matrix = np.array([\n",
    "            [np.cos(angle), -np.sin(angle), 0],\n",
    "            [np.sin(angle),  np.cos(angle), 0],\n",
    "            [0,              0,             1]\n",
    "        ])\n",
    "        pc = pc @ rotation_matrix.T\n",
    "        bbox = bbox @ rotation_matrix.T\n",
    "\n",
    "        # 2. Random Scaling\n",
    "        scale = random.uniform(0.9, 1.1)\n",
    "        pc *= scale\n",
    "        bbox *= scale\n",
    "\n",
    "        # 3. Random Jitter (translation)\n",
    "        jitter = (np.random.rand(1, 3) - 0.5) * 0.02\n",
    "        pc += jitter\n",
    "        bbox += jitter\n",
    "        \n",
    "        return pc, bbox"
   ]
  },
  {
   "cell_type": "code",
   "execution_count": 42,
   "metadata": {},
   "outputs": [],
   "source": [
    "def get_dataloaders(data_root, batch_size=16, seed=42, train_size=0.8):\n",
    "        \n",
    "        all_sample_ids = sorted(os.listdir(data_root))\n",
    "        all_sample_ids = [s for s in all_sample_ids if os.path.isdir(os.path.join(data_root, s))]\n",
    "\n",
    "        random.seed(seed)\n",
    "        random.shuffle(all_sample_ids)\n",
    "\n",
    "        train_ids, temp_ids = train_test_split(\n",
    "        all_sample_ids, test_size=(1-train_size), random_state=seed\n",
    "        )\n",
    "    \n",
    "        # test and val split 50:50\n",
    "        val_ids, test_ids = train_test_split(\n",
    "        temp_ids, test_size=(0.5), random_state=seed\n",
    "        )\n",
    "\n",
    "        train_set = PickPlaceDataset(data_root, train_ids,  augment=True)\n",
    "        val_set = PickPlaceDataset(data_root, val_ids)\n",
    "        test_set = PickPlaceDataset(data_root, test_ids)\n",
    "\n",
    "        print(f\"Dataset sizes - Train: {len(train_set)}, Val: {len(val_set)}, Test: {len(test_set)}\")\n",
    "\n",
    "        train_loader = DataLoader(train_set, batch_size=batch_size, shuffle=True, collate_fn=custom_collate)\n",
    "        val_loader = DataLoader(val_set, batch_size=batch_size, shuffle=False, collate_fn=custom_collate)\n",
    "        test_loader = DataLoader(test_set, batch_size=batch_size, shuffle=False, collate_fn=custom_collate)\n",
    "\n",
    "        return train_loader, val_loader, test_loader"
   ]
  },
  {
   "cell_type": "code",
   "execution_count": 43,
   "metadata": {},
   "outputs": [],
   "source": [
    "import plotly.graph_objects as go\n",
    "import plotly.express as px\n",
    "import numpy as np\n",
    "\n",
    "def visualize_sample_plotly(pc, mask, bbox3d, show_background=False):\n",
    "    \"\"\"\n",
    "    Interactive Plotly visualization of 3D point cloud with instance masks and 3D bounding boxes.\n",
    "\n",
    "    Args:\n",
    "        pc: [P, 3] point cloud\n",
    "        mask: [N, P] binary masks\n",
    "        bbox3d: [N, 8, 3] bounding boxes with 8 corner points\n",
    "        show_background: bool, whether to display unlabeled points (background)\n",
    "    \"\"\"\n",
    "    pc = np.asarray(pc)\n",
    "    mask = np.asarray(mask)\n",
    "    bbox3d = np.asarray(bbox3d)\n",
    "\n",
    "    P = pc.shape[0]\n",
    "    N = mask.shape[0]\n",
    "\n",
    "    # Assign each point its instance ID\n",
    "    instance_ids = np.full((P,), -1)\n",
    "    for idx in range(N):\n",
    "        instance_ids[mask[idx] > 0] = idx\n",
    "\n",
    "    # Color map\n",
    "    colorscale = px.colors.qualitative.Dark24  # 24 distinct colors\n",
    "    num_colors = len(colorscale)\n",
    "\n",
    "    fig = go.Figure()\n",
    "\n",
    "    # Add point cloud per instance\n",
    "    for i in range(N):\n",
    "        inds = np.where(instance_ids == i)[0]\n",
    "        if inds.size == 0:\n",
    "            continue\n",
    "        pts = pc[inds]\n",
    "        fig.add_trace(go.Scatter3d(\n",
    "            x=pts[:, 0], y=pts[:, 1], z=pts[:, 2],\n",
    "            mode='markers',\n",
    "            marker=dict(size=2, color=colorscale[i % num_colors]),\n",
    "            name=f'Instance {i}'\n",
    "        ))\n",
    "\n",
    "    # Add unlabeled/background points if enabled\n",
    "    if show_background:\n",
    "        bg_inds = np.where(instance_ids == -1)[0]\n",
    "        if bg_inds.size > 0:\n",
    "            pts = pc[bg_inds]\n",
    "            fig.add_trace(go.Scatter3d(\n",
    "                x=pts[:, 0], y=pts[:, 1], z=pts[:, 2],\n",
    "                mode='markers',\n",
    "                marker=dict(size=1, color='gray', opacity=0.3),\n",
    "                name='Background'\n",
    "            ))\n",
    "\n",
    "    # Draw bounding boxes\n",
    "    edges = [\n",
    "        (0, 1), (1, 2), (2, 3), (3, 0),\n",
    "        (4, 5), (5, 6), (6, 7), (7, 4),\n",
    "        (0, 4), (1, 5), (2, 6), (3, 7)\n",
    "    ]\n",
    "\n",
    "    for i, box in enumerate(bbox3d):\n",
    "        for s, e in edges:\n",
    "            x, y, z = zip(box[s], box[e])\n",
    "            fig.add_trace(go.Scatter3d(\n",
    "                x=x, y=y, z=z,\n",
    "                mode='lines',\n",
    "                line=dict(color='black', width=2),\n",
    "                name=f'BBox {i}' if s == 0 and e == 1 else None,\n",
    "                showlegend=(s == 0 and e == 1)\n",
    "            ))\n",
    "\n",
    "    fig.update_layout(\n",
    "        title='3D Point Cloud with Instance Masks and BBoxes',\n",
    "        scene=dict(\n",
    "            xaxis_title='X', yaxis_title='Y', zaxis_title='Z',\n",
    "            aspectmode='data',\n",
    "        ),\n",
    "        legend=dict(itemsizing='constant')\n",
    "    )\n",
    "\n",
    "    fig.show()\n"
   ]
  },
  {
   "cell_type": "code",
   "execution_count": 46,
   "metadata": {},
   "outputs": [
    {
     "name": "stdout",
     "output_type": "stream",
     "text": [
      "Dataset sizes - Train: 31, Val: 4, Test: 4\n"
     ]
    },
    {
     "ename": "KeyError",
     "evalue": "'centroid'",
     "output_type": "error",
     "traceback": [
      "\u001b[0;31m---------------------------------------------------------------------------\u001b[0m",
      "\u001b[0;31mKeyError\u001b[0m                                  Traceback (most recent call last)",
      "Cell \u001b[0;32mIn[46], line 8\u001b[0m\n\u001b[1;32m      6\u001b[0m mask \u001b[38;5;241m=\u001b[39m batch[\u001b[38;5;124m'\u001b[39m\u001b[38;5;124mmask\u001b[39m\u001b[38;5;124m'\u001b[39m]       \u001b[38;5;66;03m# [N, H, W]\u001b[39;00m\n\u001b[1;32m      7\u001b[0m bbox \u001b[38;5;241m=\u001b[39m batch[\u001b[38;5;124m'\u001b[39m\u001b[38;5;124mbbox3d\u001b[39m\u001b[38;5;124m'\u001b[39m]     \u001b[38;5;66;03m# [N, 8, 3] \u001b[39;00m\n\u001b[0;32m----> 8\u001b[0m centroid \u001b[38;5;241m=\u001b[39m batch[\u001b[38;5;124m'\u001b[39m\u001b[38;5;124mcentroid\u001b[39m\u001b[38;5;124m'\u001b[39m]     \u001b[38;5;66;03m# [N, 8, 3] \u001b[39;00m\n\u001b[1;32m     10\u001b[0m \u001b[38;5;28mprint\u001b[39m(\u001b[38;5;124m\"\u001b[39m\u001b[38;5;124mpoint_cloud shape:\u001b[39m\u001b[38;5;124m\"\u001b[39m, np\u001b[38;5;241m.\u001b[39marray(pc[\u001b[38;5;241m0\u001b[39m])\u001b[38;5;241m.\u001b[39mshape)\n\u001b[1;32m     11\u001b[0m \u001b[38;5;28mprint\u001b[39m(\u001b[38;5;124m\"\u001b[39m\u001b[38;5;124mmask shape:\u001b[39m\u001b[38;5;124m\"\u001b[39m, np\u001b[38;5;241m.\u001b[39marray(mask[\u001b[38;5;241m0\u001b[39m])\u001b[38;5;241m.\u001b[39mshape)\n",
      "\u001b[0;31mKeyError\u001b[0m: 'centroid'"
     ]
    }
   ],
   "source": [
    "\n",
    "data_root = 'data/pick_place'\n",
    "train_loader, val_loader, test_loader = get_dataloaders(data_root)\n",
    "\n",
    "for batch in train_loader:\n",
    "        pc = batch['point_cloud']  # [H, W, 3]\n",
    "        mask = batch['mask']       # [N, H, W]\n",
    "        bbox = batch['bbox3d']     # [N, 8, 3] \n",
    "        centroid = batch['centroid']     # [N, 8, 3] \n",
    "\n",
    "        print(\"point_cloud shape:\", np.array(pc[0]).shape)\n",
    "        print(\"mask shape:\", np.array(mask[0]).shape)\n",
    "        print(\"bbox3d shape:\", np.array(bbox[0]).shape)\n",
    "        print(\"centroid shape:\", np.array(centroid[0]).shape)\n",
    "\n",
    "        #visualize_sample_plotly(pc[0], mask[0], bbox[0])\n",
    "       \n",
    "    \n",
    "        break\n"
   ]
  },
  {
   "cell_type": "code",
   "execution_count": null,
   "metadata": {},
   "outputs": [],
   "source": []
  }
 ],
 "metadata": {
  "kernelspec": {
   "display_name": "base",
   "language": "python",
   "name": "python3"
  },
  "language_info": {
   "codemirror_mode": {
    "name": "ipython",
    "version": 3
   },
   "file_extension": ".py",
   "mimetype": "text/x-python",
   "name": "python",
   "nbconvert_exporter": "python",
   "pygments_lexer": "ipython3",
   "version": "3.12.4"
  }
 },
 "nbformat": 4,
 "nbformat_minor": 2
}
